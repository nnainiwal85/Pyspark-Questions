{
 "cells": [
  {
   "cell_type": "markdown",
   "metadata": {
    "application/vnd.databricks.v1+cell": {
     "cellMetadata": {},
     "inputWidgets": {},
     "nuid": "9390b160-d9b1-4acf-a3d6-6dc3c9c50eaf",
     "showTitle": false,
     "tableResultSettingsMap": {},
     "title": ""
    }
   },
   "source": [
    "Find the number of processed and non-processed complaints of each type.\n",
    "Replace NULL values with 0s.\n",
    "\n",
    "Output the complaint type along with the number of processed and not-processed complaints.\n"
   ]
  },
  {
   "cell_type": "code",
   "execution_count": 0,
   "metadata": {
    "application/vnd.databricks.v1+cell": {
     "cellMetadata": {
      "byteLimit": 2048000,
      "rowLimit": 10000
     },
     "inputWidgets": {},
     "nuid": "22eabf43-f86e-4c71-92fa-525147b5a5ee",
     "showTitle": false,
     "tableResultSettingsMap": {},
     "title": ""
    }
   },
   "outputs": [],
   "source": [
    "from pyspark.sql.types import StructType,StructField,IntegerType,BooleanType\n",
    "\n",
    "data = [(0,0,True),(1,0,True),(2,0,False),(3,1,True),(4,1,True),(5,1,False),(6,None,True),(7,None,False)]\n",
    "schema = StructType([\n",
    "    StructField(\"complaint_id\", IntegerType(), True),  # Allow NULLs\n",
    "    StructField(\"type\", IntegerType(), True),\n",
    "    StructField(\"processed\", BooleanType(), True)   # Allow NULLs\n",
    "])\n",
    "columns = [\"complaint_id\",\"type\",\"processed\"]\n",
    "df = spark.createDataFrame(data, schema)\n",
    "df.show()"
   ]
  },
  {
   "cell_type": "code",
   "execution_count": 0,
   "metadata": {
    "application/vnd.databricks.v1+cell": {
     "cellMetadata": {
      "byteLimit": 2048000,
      "rowLimit": 10000
     },
     "inputWidgets": {},
     "nuid": "482ea400-54a7-46f2-88b5-5d2140091648",
     "showTitle": false,
     "tableResultSettingsMap": {},
     "title": ""
    }
   },
   "outputs": [],
   "source": [
    "fill_null = df.fillna({\"type\" : 0})\n"
   ]
  },
  {
   "cell_type": "code",
   "execution_count": 0,
   "metadata": {
    "application/vnd.databricks.v1+cell": {
     "cellMetadata": {
      "byteLimit": 2048000,
      "rowLimit": 10000
     },
     "inputWidgets": {},
     "nuid": "2488b70a-502b-49b7-8154-019166dac74e",
     "showTitle": false,
     "tableResultSettingsMap": {},
     "title": ""
    }
   },
   "outputs": [],
   "source": [
    "from pyspark.sql.functions import count, col, when\n",
    "df_new = fill_null.groupBy(\"type\").agg(\n",
    "    count(when(col(\"processed\") == True, 1)).alias(\"total_true\"),\n",
    "    count(when(col(\"processed\") == False, 1)).alias(\"total_false\")\n",
    ")"
   ]
  },
  {
   "cell_type": "code",
   "execution_count": 0,
   "metadata": {
    "application/vnd.databricks.v1+cell": {
     "cellMetadata": {
      "byteLimit": 2048000,
      "rowLimit": 10000
     },
     "inputWidgets": {},
     "nuid": "1a4b2d4f-d0ca-4282-b29b-4131f6820fbd",
     "showTitle": false,
     "tableResultSettingsMap": {},
     "title": ""
    }
   },
   "outputs": [
    {
     "output_type": "stream",
     "name": "stdout",
     "output_type": "stream",
     "text": [
      "+----+----------+-----------+\n|type|total_true|total_false|\n+----+----------+-----------+\n|   0|         3|          2|\n|   1|         2|          1|\n+----+----------+-----------+\n\n"
     ]
    }
   ],
   "source": [
    "df_new.show()"
   ]
  }
 ],
 "metadata": {
  "application/vnd.databricks.v1+notebook": {
   "computePreferences": null,
   "dashboards": [],
   "environmentMetadata": {
    "base_environment": "",
    "client": "1"
   },
   "language": "python",
   "notebookMetadata": {
    "pythonIndentUnit": 4
   },
   "notebookName": "Question 1",
   "widgets": {}
  }
 },
 "nbformat": 4,
 "nbformat_minor": 0
}
