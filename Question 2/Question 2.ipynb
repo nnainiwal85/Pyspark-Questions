{
 "cells": [
  {
   "cell_type": "markdown",
   "metadata": {
    "application/vnd.databricks.v1+cell": {
     "cellMetadata": {},
     "inputWidgets": {},
     "nuid": "fa694321-2205-4a04-afed-6d13936a379d",
     "showTitle": false,
     "tableResultSettingsMap": {},
     "title": ""
    }
   },
   "source": [
    "Write a query to return Territory and corresponding Sales Growth. Compare growth between periods Q4-2021 vs Q3-2021.\n",
    "If Territory (say T123) has Sales worth $100 in Q3-2021 and Sales worth $110 in Q4-2021, then the Sales Growth will be 10% [ i.e. = ((110 - 100)/100) * 100 ]\n",
    "Output the ID of the Territory and the Sales Growth. Only output these territories that had any sales in both quarters.\n"
   ]
  },
  {
   "cell_type": "code",
   "execution_count": 0,
   "metadata": {
    "application/vnd.databricks.v1+cell": {
     "cellMetadata": {
      "byteLimit": 2048000,
      "rowLimit": 10000
     },
     "inputWidgets": {},
     "nuid": "460aed98-b4a3-495d-a78c-b461cc28bd76",
     "showTitle": false,
     "tableResultSettingsMap": {},
     "title": ""
    }
   },
   "outputs": [],
   "source": [
    "df = spark.read.format(\"csv\").option(\"header\",\"True\").load(\"dbfs:/FileStore/Question2/Question2.csv\")\n",
    "#df.show()"
   ]
  },
  {
   "cell_type": "code",
   "execution_count": 0,
   "metadata": {
    "application/vnd.databricks.v1+cell": {
     "cellMetadata": {
      "byteLimit": 2048000,
      "rowLimit": 10000
     },
     "inputWidgets": {},
     "nuid": "1f7635a6-2d21-437c-9cdb-cf636d73b9bd",
     "showTitle": false,
     "tableResultSettingsMap": {},
     "title": ""
    }
   },
   "outputs": [],
   "source": [
    "df_map=spark.read.format(\"csv\").option(\"header\",\"True\").load(\"dbfs:/FileStore/Question2/map.csv\")\n",
    "#df_map.show()"
   ]
  },
  {
   "cell_type": "code",
   "execution_count": 0,
   "metadata": {
    "application/vnd.databricks.v1+cell": {
     "cellMetadata": {
      "byteLimit": 2048000,
      "rowLimit": 10000
     },
     "inputWidgets": {},
     "nuid": "c308e354-6eba-4a83-bd2c-918cba7da0c2",
     "showTitle": false,
     "tableResultSettingsMap": {},
     "title": ""
    }
   },
   "outputs": [],
   "source": [
    "from pyspark.sql.functions import quarter,year, concat_ws, when, col\n",
    "\n",
    "df_quarter = df.withColumn(\"quarter\",when(quarter(\"order_date\") == 1, \"Q1\")\\\n",
    "                                .when(quarter(\"order_date\") == 2, \"Q2\")\\\n",
    "                                .when(quarter(\"order_date\") == 3, \"Q3\")\\\n",
    "                                .when(quarter(\"order_date\") == 4, \"Q4\")\n",
    ")\n",
    "df_year_quarter = df_quarter.withColumn(\"quarter_year\", concat_ws(\"-\",col(\"quarter\"),year(\"order_date\")))\n",
    "#df_year_quarter.show()"
   ]
  },
  {
   "cell_type": "code",
   "execution_count": 0,
   "metadata": {
    "application/vnd.databricks.v1+cell": {
     "cellMetadata": {
      "byteLimit": 2048000,
      "rowLimit": 10000
     },
     "inputWidgets": {},
     "nuid": "8e496acf-982e-4307-9cca-28a664586738",
     "showTitle": false,
     "tableResultSettingsMap": {},
     "title": ""
    }
   },
   "outputs": [],
   "source": [
    "df_cust = df_year_quarter\n",
    "df_join = df_cust.join(df_map, df_cust.cust_id == df_map.cust_id, \"inner\").select(df_map.territory_id,df_cust.order_value,df_cust.quarter_year)\n",
    "#df_join.show()"
   ]
  },
  {
   "cell_type": "code",
   "execution_count": 0,
   "metadata": {
    "application/vnd.databricks.v1+cell": {
     "cellMetadata": {
      "byteLimit": 2048000,
      "rowLimit": 10000
     },
     "inputWidgets": {},
     "nuid": "99278cee-9e95-4980-8550-d365a9c661b2",
     "showTitle": false,
     "tableResultSettingsMap": {},
     "title": ""
    }
   },
   "outputs": [],
   "source": [
    "from pyspark.sql.functions import sum\n",
    "df_Q3_Q4 = df_join.filter((col(\"quarter_year\") == 'Q3-2021') | (col(\"quarter_year\") == 'Q4-2021'))\n",
    "df_group = df_Q3_Q4.groupBy(\"territory_id\").agg(sum(when(col(\"quarter_year\") == \"Q4-2021\" , col(\"order_value\"))).alias(\"Q4-2021\"),sum(when(col(\"quarter_year\") == \"Q3-2021\" , col(\"order_value\"))).alias(\"Q3-2021\")\n",
    "                        )\n",
    "df_group.show()"
   ]
  },
  {
   "cell_type": "code",
   "execution_count": 0,
   "metadata": {
    "application/vnd.databricks.v1+cell": {
     "cellMetadata": {
      "byteLimit": 2048000,
      "rowLimit": 10000
     },
     "inputWidgets": {},
     "nuid": "faf5fe8f-fd8d-4e34-bf42-8058f91cf1bf",
     "showTitle": false,
     "tableResultSettingsMap": {},
     "title": ""
    }
   },
   "outputs": [],
   "source": [
    "df_dropped = df_group.dropna(\"any\", subset=[\"Q4-2021\",\"Q3-2021\"])\n",
    "#df_dropped.show()"
   ]
  },
  {
   "cell_type": "code",
   "execution_count": 0,
   "metadata": {
    "application/vnd.databricks.v1+cell": {
     "cellMetadata": {
      "byteLimit": 2048000,
      "rowLimit": 10000
     },
     "inputWidgets": {},
     "nuid": "60b6875d-c50d-4c70-9b34-f6a775c26fd5",
     "showTitle": false,
     "tableResultSettingsMap": {},
     "title": ""
    }
   },
   "outputs": [],
   "source": [
    "from pyspark.sql.functions import round\n",
    "df_growth = df_dropped.withColumn(\"pert_growth\",round(((col(\"Q4-2021\")-col(\"Q3-2021\"))/col(\"Q3-2021\")) * 100, 2))\n",
    "df_final = df_growth.select(\"territory_id\",\"Q3-2021\",\"Q4-2021\",\"pert_growth\")        \n",
    "df_final.show()                       "
   ]
  }
 ],
 "metadata": {
  "application/vnd.databricks.v1+notebook": {
   "computePreferences": null,
   "dashboards": [],
   "environmentMetadata": {
    "base_environment": "",
    "client": "1"
   },
   "language": "python",
   "notebookMetadata": {
    "pythonIndentUnit": 4
   },
   "notebookName": "Question 2",
   "widgets": {}
  }
 },
 "nbformat": 4,
 "nbformat_minor": 0
}
